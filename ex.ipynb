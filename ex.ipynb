{
 "cells": [
  {
   "cell_type": "code",
   "execution_count": 2,
   "id": "0b38465d",
   "metadata": {},
   "outputs": [
    {
     "name": "stdout",
     "output_type": "stream",
     "text": [
      "5 6\n"
     ]
    }
   ],
   "source": [
    "n = int(input())\n",
    "m = int(input())\n",
    "n = n+m\n",
    "m = n-m\n",
    "n = n-m\n",
    "print(n,m)"
   ]
  },
  {
   "cell_type": "code",
   "execution_count": 10,
   "id": "abd42c9a",
   "metadata": {},
   "outputs": [
    {
     "name": "stdout",
     "output_type": "stream",
     "text": [
      "umma\n"
     ]
    }
   ],
   "source": [
    "n = input()\n",
    "m = \"\"\n",
    "for i in range(len(n)-1,-1,-1):\n",
    "    m += n[i]\n",
    "print(m)"
   ]
  },
  {
   "cell_type": "code",
   "execution_count": 21,
   "id": "a2913dd6",
   "metadata": {},
   "outputs": [
    {
     "name": "stdout",
     "output_type": "stream",
     "text": [
      "not armstrong\n"
     ]
    }
   ],
   "source": [
    "n = int(input())\n",
    "n1 = str(n)\n",
    "l = len(n1)\n",
    "s=0\n",
    "t = n\n",
    "while t>0:\n",
    "    digit = t%10\n",
    "    s += digit**l\n",
    "    t=t//10\n",
    "\n",
    "if s == n :\n",
    "    print(\"armstrong\")\n",
    "else:\n",
    "    print(\"not armstrong\")"
   ]
  },
  {
   "cell_type": "code",
   "execution_count": 22,
   "id": "c1901b2a",
   "metadata": {},
   "outputs": [
    {
     "name": "stdout",
     "output_type": "stream",
     "text": [
      "3 3\n"
     ]
    }
   ],
   "source": [
    "n = input()\n",
    "v = \"aeiouAEIOU\"\n",
    "vc=0\n",
    "for i in range(len(n)):\n",
    "    if n[i] in v:\n",
    "        vc+=1\n",
    "print(vc,len(n)-vc)"
   ]
  },
  {
   "cell_type": "code",
   "execution_count": 23,
   "id": "9e82b133",
   "metadata": {},
   "outputs": [
    {
     "name": "stdout",
     "output_type": "stream",
     "text": [
      "4\n",
      "8\n",
      "12\n",
      "16\n",
      "20\n",
      "24\n",
      "28\n",
      "32\n",
      "36\n",
      "40\n"
     ]
    }
   ],
   "source": [
    "n = int(input())\n",
    "for i in range(1,11):\n",
    "    print(n*i)"
   ]
  },
  {
   "cell_type": "code",
   "execution_count": null,
   "id": "5b26daa0",
   "metadata": {},
   "outputs": [],
   "source": [
    "n = int(input())\n",
    "\n",
    "if ((n%4==0 and n%100!=0) or n%400==0):\n",
    "    print(\"leap year\")\n",
    "else:\n",
    "    print(\"not leap year\")"
   ]
  }
 ],
 "metadata": {
  "kernelspec": {
   "display_name": "venv",
   "language": "python",
   "name": "python3"
  },
  "language_info": {
   "codemirror_mode": {
    "name": "ipython",
    "version": 3
   },
   "file_extension": ".py",
   "mimetype": "text/x-python",
   "name": "python",
   "nbconvert_exporter": "python",
   "pygments_lexer": "ipython3",
   "version": "3.11.0"
  }
 },
 "nbformat": 4,
 "nbformat_minor": 5
}
