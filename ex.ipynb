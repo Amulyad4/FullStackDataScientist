{
 "cells": [
  {
   "cell_type": "code",
   "execution_count": null,
   "id": "0b38465d",
   "metadata": {},
   "outputs": [
    {
     "name": "stdout",
     "output_type": "stream",
     "text": [
      "5 6\n"
     ]
    }
   ],
   "source": [
    "#1.You are developing a small calculator app. Write a program that takes two numbers from the user and swaps them without using a third variable, so users can correct their input order.\n",
    "n = int(input())\n",
    "m = int(input())\n",
    "n = n+m\n",
    "m = n-m\n",
    "n = n-m\n",
    "print(n,m)"
   ]
  },
  {
   "cell_type": "code",
   "execution_count": null,
   "id": "abd42c9a",
   "metadata": {},
   "outputs": [
    {
     "name": "stdout",
     "output_type": "stream",
     "text": [
      "umma\n"
     ]
    }
   ],
   "source": [
    "#2..A library wants to build a feature to display book titles backwards for a “mirror view” theme. Write a program that reverses a given string without using slicing.\n",
    "n = input()\n",
    "m = \"\"\n",
    "for i in range(len(n)-1,-1,-1):\n",
    "    m += n[i]\n",
    "print(m)"
   ]
  },
  {
   "cell_type": "code",
   "execution_count": null,
   "id": "a2913dd6",
   "metadata": {},
   "outputs": [
    {
     "name": "stdout",
     "output_type": "stream",
     "text": [
      "not armstrong\n"
     ]
    }
   ],
   "source": [
    "#3. An ATM machine verifies special numbers before processing transactions. Write a program to check if a number entered by the customer is an Armstrong number.\n",
    "n = int(input())\n",
    "n1 = str(n)\n",
    "l = len(n1)\n",
    "s=0\n",
    "t = n\n",
    "while t>0:\n",
    "    digit = t%10\n",
    "    s += digit**l\n",
    "    t=t//10\n",
    "\n",
    "if s == n :\n",
    "    print(\"armstrong\")\n",
    "else:\n",
    "    print(\"not armstrong\")"
   ]
  },
  {
   "cell_type": "code",
   "execution_count": null,
   "id": "c1901b2a",
   "metadata": {},
   "outputs": [
    {
     "name": "stdout",
     "output_type": "stream",
     "text": [
      "3 3\n"
     ]
    }
   ],
   "source": [
    "#4. A language learning app wants to check how many vowels and consonants a user has typed in a practice sentence. Write a program to count vowels and consonants in a given sentence.\n",
    "n = input()\n",
    "v = \"aeiouAEIOU\"\n",
    "vc=0\n",
    "for i in range(len(n)):\n",
    "    if n[i] in v:\n",
    "        vc+=1\n",
    "print(vc,len(n)-vc)"
   ]
  },
  {
   "cell_type": "code",
   "execution_count": null,
   "id": "9e82b133",
   "metadata": {},
   "outputs": [
    {
     "name": "stdout",
     "output_type": "stream",
     "text": [
      "4\n",
      "8\n",
      "12\n",
      "16\n",
      "20\n",
      "24\n",
      "28\n",
      "32\n",
      "36\n",
      "40\n"
     ]
    }
   ],
   "source": [
    "#5.In an e-learning platform, when a student inputs a number, the system should generate its multiplication table (up to 10) as practice material. Write a program to do this.\n",
    "n = int(input())\n",
    "for i in range(1,11):\n",
    "    print(n*i)"
   ]
  },
  {
   "cell_type": "code",
   "execution_count": null,
   "id": "5b26daa0",
   "metadata": {},
   "outputs": [
    {
     "name": "stdout",
     "output_type": "stream",
     "text": [
      "leap year\n"
     ]
    }
   ],
   "source": [
    "#6.A travel company checks leap years to calculate special discounts on leap day. Write a program to check if a given year is a leap year.\n",
    "n = int(input())\n",
    "if ((n%4==0 and n%100!=0) or n%400==0):\n",
    "    print(\"leap year\")\n",
    "else:\n",
    "    print(\"not leap year\")"
   ]
  },
  {
   "cell_type": "code",
   "execution_count": null,
   "id": "8fa759bc",
   "metadata": {},
   "outputs": [
    {
     "name": "stdout",
     "output_type": "stream",
     "text": [
      "67\n"
     ]
    }
   ],
   "source": [
    "#7.A gaming app wants to determine the highest score out of 5 attempts. Write a program to take 5 numbers as input and print the largest.\n",
    "a = []\n",
    "for i in range(5):\n",
    "    n = int(input())\n",
    "    a.append(n)\n",
    "print(max(a))\n",
    "\n"
   ]
  },
  {
   "cell_type": "code",
   "execution_count": null,
   "id": "735fe302",
   "metadata": {},
   "outputs": [
    {
     "name": "stdout",
     "output_type": "stream",
     "text": [
      "palindrome\n"
     ]
    }
   ],
   "source": [
    "#8.A healthcare app stores patient IDs and checks if they are palindromes for easy recall. Write a program that checks if a given string ID is a palindrome.\n",
    "def f(n):\n",
    "    i=0\n",
    "    j=len(n)-1\n",
    "    while(i<j):\n",
    "        if n[i]!=n[j]:\n",
    "            break\n",
    "        i+=1\n",
    "        j-=1\n",
    "        return True\n",
    "    \n",
    "n = input()\n",
    "if(f(n)):\n",
    "    print(\"palindrome\")\n",
    "else:\n",
    "    print(\"not a palindrome\")\n"
   ]
  },
  {
   "cell_type": "code",
   "execution_count": null,
   "id": "859daf12",
   "metadata": {},
   "outputs": [
    {
     "name": "stdout",
     "output_type": "stream",
     "text": [
      "24\n"
     ]
    }
   ],
   "source": [
    "#9.A factory wants to calculate the number of ways workers can be arranged in a line. Write a program to find the factorial of a number.\n",
    "def f(n):\n",
    "    if n==0 or n==1:\n",
    "        return 1\n",
    "    return n*f(n-1)\n",
    "n= int(input())\n",
    "re = f(n)\n",
    "print(re)"
   ]
  },
  {
   "cell_type": "code",
   "execution_count": null,
   "id": "7ac6705d",
   "metadata": {},
   "outputs": [
    {
     "name": "stdout",
     "output_type": "stream",
     "text": [
      "15\n",
      "30\n",
      "45\n",
      "60\n",
      "75\n",
      "90\n"
     ]
    }
   ],
   "source": [
    "#10.A company gives rewards for numbers divisible by both 3 and 5. Write a program to print all numbers between 1 and 100 that qualify.\n",
    "for i in range(1,101):\n",
    "    if i%15==0:\n",
    "        print(i)"
   ]
  }
 ],
 "metadata": {
  "kernelspec": {
   "display_name": "venv",
   "language": "python",
   "name": "python3"
  },
  "language_info": {
   "codemirror_mode": {
    "name": "ipython",
    "version": 3
   },
   "file_extension": ".py",
   "mimetype": "text/x-python",
   "name": "python",
   "nbconvert_exporter": "python",
   "pygments_lexer": "ipython3",
   "version": "3.11.0"
  }
 },
 "nbformat": 4,
 "nbformat_minor": 5
}
