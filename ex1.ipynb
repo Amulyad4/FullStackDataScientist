{
 "cells": [
  {
   "cell_type": "code",
   "execution_count": 2,
   "id": "ebac0268",
   "metadata": {},
   "outputs": [
    {
     "name": "stdout",
     "output_type": "stream",
     "text": [
      "prime\n"
     ]
    }
   ],
   "source": [
    "#11.A security system checks whether the entered code is prime for extra authentication. Write a program to check if a given number is prime.\n",
    "n = int(input())\n",
    "if n<=1:\n",
    "    print(\"not prime\")\n",
    "else:\n",
    "    isprime = True\n",
    "    for i in range(2,int(n**0.5)-1):\n",
    "        if n%i==0:\n",
    "            isprime=False\n",
    "            break\n",
    "if(isprime):\n",
    "    print(\"prime\")\n",
    "else:\n",
    "    print(\"not prime\")"
   ]
  },
  {
   "cell_type": "code",
   "execution_count": 3,
   "id": "66f229c1",
   "metadata": {},
   "outputs": [
    {
     "name": "stdout",
     "output_type": "stream",
     "text": [
      "33\n"
     ]
    }
   ],
   "source": [
    "#12.In a class test, a teacher wants to know the second highest score among students. Write a program to find the second largest number in a list.\n",
    "n1 = int(input(\"enter no of students :\"))\n",
    "a = []\n",
    "for i in range(n1):\n",
    "    n = int(input())\n",
    "    a.append(n)\n",
    "x = max(a)\n",
    "a.remove(x)\n",
    "print(max(a))\n"
   ]
  },
  {
   "cell_type": "code",
   "execution_count": 4,
   "id": "bda9dbb4",
   "metadata": {},
   "outputs": [
    {
     "name": "stdout",
     "output_type": "stream",
     "text": [
      "650\n"
     ]
    }
   ],
   "source": [
    "#13.A fitness app counts only even-numbered steps to calculate “balanced walking.” Write a program to find the sum of even numbers from 1 to 50.\n",
    "sum=0\n",
    "for i in range(1,51):\n",
    "    if i%2==0 :\n",
    "        sum+=i\n",
    "print(sum)"
   ]
  },
  {
   "cell_type": "code",
   "execution_count": 6,
   "id": "ae4a6067",
   "metadata": {},
   "outputs": [
    {
     "name": "stdout",
     "output_type": "stream",
     "text": [
      "lowercase : 5   uppercase : 1\n"
     ]
    }
   ],
   "source": [
    "#14.A typing speed test wants to know how many uppercase and lowercase letters a user typed. Write a program to count uppercase and lowercase characters in a string\n",
    "n = input()\n",
    "u=0\n",
    "l=0\n",
    "for i in n:\n",
    "    if i.islower():\n",
    "        l+=1\n",
    "    elif i.isupper():\n",
    "        u+=1\n",
    "print(\"lowercase :\",l,\"  uppercase :\",u)"
   ]
  },
  {
   "cell_type": "code",
   "execution_count": 7,
   "id": "90c49b15",
   "metadata": {},
   "outputs": [
    {
     "name": "stdout",
     "output_type": "stream",
     "text": [
      "0 1 1 2 3 "
     ]
    }
   ],
   "source": [
    "#15.A financial tool simulates Fibonacci-like growth in savings. Write a program to generate the Fibonacci sequence up to n terms.\n",
    "n = int(input())\n",
    "a,b=0,1\n",
    "for _ in range(n):\n",
    "    print(a,end=\" \")\n",
    "    a,b=b,a+b"
   ]
  },
  {
   "cell_type": "code",
   "execution_count": 10,
   "id": "1e85a5fc",
   "metadata": {},
   "outputs": [
    {
     "name": "stdout",
     "output_type": "stream",
     "text": [
      "anagrams\n"
     ]
    }
   ],
   "source": [
    "#16.A word puzzle game checks if two words are anagrams (same letters but shuffled). Write a program to check if two strings are anagrams.\n",
    "n1 = input()\n",
    "n2 = input()\n",
    "for i in range(len(n1)):\n",
    "    p = True\n",
    "    if n1[i] not in n2:\n",
    "        p = False\n",
    "        break\n",
    "if p:\n",
    "    print(\"anagrams\")\n",
    "else:\n",
    "    print(\"not anagrams\")"
   ]
  },
  {
   "cell_type": "code",
   "execution_count": 13,
   "id": "e758280f",
   "metadata": {},
   "outputs": [
    {
     "name": "stdout",
     "output_type": "stream",
     "text": [
      "perfect number\n"
     ]
    }
   ],
   "source": [
    "#17.A science experiment needs to verify whether a number is perfect (sum of divisors = number). Write a program to check if a number is a perfect number.\n",
    "n = int(input())\n",
    "s = 0\n",
    "for i in range(1,n):\n",
    "    if n%i==0:\n",
    "        s += i\n",
    "if s==n:\n",
    "    print(\"perfect number\")\n",
    "else:\n",
    "    print(\"not a perfect number\")"
   ]
  },
  {
   "cell_type": "code",
   "execution_count": 14,
   "id": "1911789e",
   "metadata": {},
   "outputs": [
    {
     "name": "stdout",
     "output_type": "stream",
     "text": [
      "A\n"
     ]
    }
   ],
   "source": [
    "#18.A school report system calculates percentage and assigns grades:\n",
    "#≥90 → A ≥75 → B ≥50 → C <50 → Fail\n",
    "#Write a program that takes 5 subject marks, calculates percentage, and prints the grade.\n",
    "s = 0\n",
    "for i in range(5):\n",
    "    n = int(input())\n",
    "    s += n\n",
    "avg = int(s/5)\n",
    "if s>=90:\n",
    "    print(\"A\")\n",
    "elif s>=75:\n",
    "    print(\"B\")\n",
    "elif s>=50:\n",
    "    print(\"C\")\n",
    "elif s<50:\n",
    "    print(\"Fail\")\n"
   ]
  },
  {
   "cell_type": "code",
   "execution_count": 17,
   "id": "1aa0aca6",
   "metadata": {},
   "outputs": [
    {
     "name": "stdout",
     "output_type": "stream",
     "text": [
      "2 3 5 7 11 13 17 19 23 29 31 37 41 43 47 53 59 61 67 71 73 79 83 89 97 "
     ]
    }
   ],
   "source": [
    "#19.A mathematics quiz app generates all prime numbers between 1 and 100. Write a program to print all prime numbers in this range.\n",
    "def isprime(n):\n",
    "    if n<=1:\n",
    "        return False\n",
    "    for i in range(2,int(n**0.5)+1):\n",
    "        if n%i==0:\n",
    "            return False\n",
    "    return True\n",
    "for i in range(1,101):\n",
    "    if isprime(i):\n",
    "        print(i,end=\" \")"
   ]
  },
  {
   "cell_type": "code",
   "execution_count": 18,
   "id": "a8b439ec",
   "metadata": {},
   "outputs": [
    {
     "name": "stdout",
     "output_type": "stream",
     "text": [
      "Number of words: 5\n"
     ]
    }
   ],
   "source": [
    "#20.An online editor counts words in an article but doesn’t allow using split(). Write a program to count the number of words in a sentence.\n",
    "def c(n):\n",
    "    count = 0\n",
    "    in_word = False\n",
    "    for ch in n:\n",
    "        if ch.isspace():\n",
    "            in_word = False\n",
    "        else:\n",
    "            if not in_word: \n",
    "                count += 1\n",
    "                in_word = True\n",
    "    return count\n",
    "n = input()\n",
    "print(\"Number of words:\", c(n))\n"
   ]
  }
 ],
 "metadata": {
  "kernelspec": {
   "display_name": "Python 3",
   "language": "python",
   "name": "python3"
  },
  "language_info": {
   "codemirror_mode": {
    "name": "ipython",
    "version": 3
   },
   "file_extension": ".py",
   "mimetype": "text/x-python",
   "name": "python",
   "nbconvert_exporter": "python",
   "pygments_lexer": "ipython3",
   "version": "3.11.0"
  }
 },
 "nbformat": 4,
 "nbformat_minor": 5
}
