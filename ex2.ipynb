{
 "cells": [
  {
   "cell_type": "code",
   "execution_count": 6,
   "id": "a97b7b7c",
   "metadata": {},
   "outputs": [
    {
     "name": "stdout",
     "output_type": "stream",
     "text": [
      "Final ticket price: 450.0\n"
     ]
    }
   ],
   "source": [
    "#21. Movie Ticket Discount\n",
    "#A cinema gives a 20% discount if the customer is a student and 10% discount if the customer is a senior citizen (age ≥ 60).\n",
    "#Write a program that takes ticket price, age, and student status (yes/no) as input and prints the final ticket price.\n",
    "tic_price = int(input())\n",
    "age = int(input())\n",
    "student = input(\"Are you a student? (yes/no): \").strip().lower()\n",
    "discount = 0\n",
    "if student == \"yes\":\n",
    "    discount = 0.20 * tic_price\n",
    "elif age >= 60:\n",
    "    discount = 0.10 * tic_price\n",
    "final_price = tic_price - discount\n",
    "print(\"Final ticket price:\", final_price)"
   ]
  },
  {
   "cell_type": "code",
   "execution_count": 7,
   "id": "c1b5b2e8",
   "metadata": {},
   "outputs": [
    {
     "name": "stdout",
     "output_type": "stream",
     "text": [
      "total payable : 500.7\n"
     ]
    }
   ],
   "source": [
    "#22.Shopping Cart Free Delivery\n",
    "#An e-commerce website gives free delivery if the total cart value is more than ₹500. Otherwise, a delivery charge of ₹50 is applied.\n",
    "#Write a program that takes the cart total as input and prints the final amount payable.\n",
    "n = float(input())\n",
    "if n>=500:\n",
    "    print(\"total payable :\",n)\n",
    "else:\n",
    "    print(\"total payable :\",n+50)"
   ]
  },
  {
   "cell_type": "code",
   "execution_count": 8,
   "id": "bfe339d9",
   "metadata": {},
   "outputs": [
    {
     "name": "stdout",
     "output_type": "stream",
     "text": [
      "Grade: C\n"
     ]
    }
   ],
   "source": [
    "#23.Marks Grading System\n",
    "#A college follows this grading system:\n",
    "#90–100: A 75–89: B 50–74: C Below 50: Fail\n",
    "#Write a program that takes marks as input and prints the grade.\n",
    "m = int(input())\n",
    "if 90 <= m <= 100:\n",
    "    grade = \"A\"\n",
    "elif 75 <= m <= 89:\n",
    "    grade = \"B\"\n",
    "elif 50 <= m <= 74:\n",
    "    grade = \"C\"\n",
    "elif 0 <= m < 50:\n",
    "    grade = \"Fail\"\n",
    "else:\n",
    "    grade = \"Invalid marks\"\n",
    "print(\"Grade:\", grade)\n"
   ]
  },
  {
   "cell_type": "code",
   "execution_count": 9,
   "id": "a89a9da4",
   "metadata": {},
   "outputs": [
    {
     "name": "stdout",
     "output_type": "stream",
     "text": [
      "tip to be added : 99.9\n"
     ]
    }
   ],
   "source": [
    "#24.Restaurant Tip Calculator A restaurant suggests tips based on the bill:\n",
    "#Less than 500 → 5% tip 500–1000 → 10% tip More than 1000 → 15% tip\n",
    "#Write a program that takes the bill amount and prints the tip to be added.\n",
    "bill = float(input())\n",
    "if bill<500:\n",
    "    tip = 0.05*bill\n",
    "elif bill>=500 and bill<=1000:\n",
    "    tip = 0.10*bill\n",
    "elif bill>1000:\n",
    "    tip = 0.15*bill\n",
    "print(\"tip to be added :\",tip)"
   ]
  },
  {
   "cell_type": "code",
   "execution_count": 10,
   "id": "66d8b4a6",
   "metadata": {},
   "outputs": [
    {
     "name": "stdout",
     "output_type": "stream",
     "text": [
      "Cheapest option: ₹ 4700\n"
     ]
    }
   ],
   "source": [
    "#25.Gym Membership Plan A gym charges:\n",
    "#₹500 per month ₹2700 for 6 months (discounted) ₹5000 for 12 months (discounted)\n",
    "#Write a program where the user enters the membership period (months) and the program prints the cheapest option.\n",
    "months = int(input())\n",
    "a = months * 500\n",
    "b = ((months // 6) * 2700) + ((months % 6) * 500)\n",
    "c = ((months // 12) * 5000) + ((months % 12) * 500)\n",
    "cheapest = min(a, b, c)\n",
    "print(\"Cheapest option: ₹\", cheapest)"
   ]
  },
  {
   "cell_type": "code",
   "execution_count": 12,
   "id": "fbbe36a8",
   "metadata": {},
   "outputs": [
    {
     "name": "stdout",
     "output_type": "stream",
     "text": [
      "not eligible\n"
     ]
    }
   ],
   "source": [
    "#26.Exam Eligibility\n",
    "#A student must have at least 75% attendance to sit for the exam.\n",
    "#Write a program that takes total classes and classes attended as input and prints whether the student is eligible or not eligible.\n",
    "total = int(input())\n",
    "attended = int(input())\n",
    "percentage = (attended*100)/total\n",
    "if percentage>=75:\n",
    "    print(\"eligible\")\n",
    "else:\n",
    "    print(\"not eligible\")"
   ]
  },
  {
   "cell_type": "code",
   "execution_count": 13,
   "id": "78707aa7",
   "metadata": {},
   "outputs": [
    {
     "name": "stdout",
     "output_type": "stream",
     "text": [
      "transaction NOT successfull\n"
     ]
    }
   ],
   "source": [
    "#27.ATM Withdrawal\n",
    "#An ATM only allows withdrawals in multiples of 100.\n",
    "#Write a program that takes the withdrawal amount and prints whether the transaction is successful or failed.\n",
    "n = int(input())\n",
    "if n%100==0:\n",
    "    print(\"transaction successfull\")\n",
    "else:\n",
    "    print(\"transaction NOT successfull\")"
   ]
  },
  {
   "cell_type": "code",
   "execution_count": 15,
   "id": "2739b3fd",
   "metadata": {},
   "outputs": [
    {
     "name": "stdout",
     "output_type": "stream",
     "text": [
      "It's cold,wear warm clothes!\n"
     ]
    }
   ],
   "source": [
    "#28.Weather Suggestion Write a program that takes the temperature as input and gives a suggestion:\n",
    "#35 → \"Too hot, stay indoors!\" 20–35 → \"Nice weather, go out!\" < 20 → \"It’s cold, wear warm clothes!\"\n",
    "n = int(input())\n",
    "if n>=35:\n",
    "    print(\"Too hot, stay indoors!\")\n",
    "elif n>=20 and n<=35:\n",
    "    print(\"Nice weather, go out!\")\n",
    "elif n<20:\n",
    "    print(\"It's cold,wear warm clothes!\")"
   ]
  },
  {
   "cell_type": "code",
   "execution_count": null,
   "id": "e45d3313",
   "metadata": {},
   "outputs": [
    {
     "name": "stdout",
     "output_type": "stream",
     "text": [
      "0\n"
     ]
    }
   ],
   "source": [
    "#29.Library Fine A library charges a fine for late book returns:\n",
    "#1–5 days → ₹10 6–10 days → ₹50 10 days → ₹100\n",
    "#Write a program that takes the number of late days as input and prints the fine amount.\n",
    "n = int(input())\n",
    "fine = 0\n",
    "if 1 <= n <= 5:\n",
    "    fine = 10\n",
    "elif 6 <= n <= 10:\n",
    "    fine = 50\n",
    "elif n > 10:\n",
    "    fine = 100\n",
    "print(fine)"
   ]
  },
  {
   "cell_type": "code",
   "execution_count": 19,
   "id": "0744f414",
   "metadata": {},
   "outputs": [
    {
     "name": "stdout",
     "output_type": "stream",
     "text": [
      "bill : 850\n"
     ]
    }
   ],
   "source": [
    "#30.Electricity Bill Calculator An electricity board charges: First 100 units → ₹5 per unit\n",
    "#Next 100 units (101–200) → ₹7 per unit Above 200 units → ₹10 per unit\n",
    "#Write a program that takes units consumed as input and prints the bill amount.\n",
    "u = int(input())\n",
    "bill = 0\n",
    "if u <= 100:\n",
    "    bill = u * 5\n",
    "elif u <= 200:\n",
    "    bill = (100 * 5) + (u - 100) * 7\n",
    "else:\n",
    "    bill = (100 * 5) + (100 * 7) + (u - 200) * 10\n",
    "print(\"bill :\", bill)"
   ]
  }
 ],
 "metadata": {
  "kernelspec": {
   "display_name": "Python 3",
   "language": "python",
   "name": "python3"
  },
  "language_info": {
   "codemirror_mode": {
    "name": "ipython",
    "version": 3
   },
   "file_extension": ".py",
   "mimetype": "text/x-python",
   "name": "python",
   "nbconvert_exporter": "python",
   "pygments_lexer": "ipython3",
   "version": "3.11.0"
  }
 },
 "nbformat": 4,
 "nbformat_minor": 5
}
