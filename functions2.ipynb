{
 "cells": [
  {
   "cell_type": "code",
   "execution_count": 2,
   "id": "c95ed75b",
   "metadata": {},
   "outputs": [
    {
     "name": "stdout",
     "output_type": "stream",
     "text": [
      "0 1 1 2 3 "
     ]
    }
   ],
   "source": [
    "#1. Fibonacci Generator\n",
    "def fib(n):\n",
    "    a, b = 0, 1\n",
    "    for _ in range(n):\n",
    "        print(a, end=\" \")\n",
    "        a, b = b, a+b\n",
    "\n",
    "n = int(input(\"Enter n: \"))\n",
    "fib(n)"
   ]
  },
  {
   "cell_type": "code",
   "execution_count": 4,
   "id": "abd9a135",
   "metadata": {},
   "outputs": [
    {
     "name": "stdout",
     "output_type": "stream",
     "text": [
      "5040\n"
     ]
    }
   ],
   "source": [
    "#2. Factorial Using Recursion\n",
    "def fact(n):\n",
    "    if n==0 or n==1:\n",
    "        return 1\n",
    "    else:\n",
    "        return n*fact(n-1)\n",
    "n = int(input())\n",
    "print(fact(n))"
   ]
  },
  {
   "cell_type": "code",
   "execution_count": 5,
   "id": "f8480808",
   "metadata": {},
   "outputs": [
    {
     "name": "stdout",
     "output_type": "stream",
     "text": [
      "{'apple': 2, 'banana': 2, 'mango': 1, 'orange': 1}\n"
     ]
    }
   ],
   "source": [
    "#3. Unique Words Counter\n",
    "def fn(sentence):\n",
    "    words = sentence.split(\" \")   \n",
    "    freq = {}                 \n",
    "    for word in words:\n",
    "        if word in freq:\n",
    "            freq[word] += 1\n",
    "        else:\n",
    "            freq[word] = 1\n",
    "    return freq\n",
    "sentence = input()\n",
    "print(fn(sentence))"
   ]
  },
  {
   "cell_type": "code",
   "execution_count": 9,
   "id": "3aabe2b8",
   "metadata": {},
   "outputs": [
    {
     "name": "stdout",
     "output_type": "stream",
     "text": [
      "A\n"
     ]
    }
   ],
   "source": [
    "#4. Grade Calculator\n",
    "n = [int(input()) for i in range(3)]\n",
    "s = sum(n)/len(n)\n",
    "if s>=90:\n",
    "    print(\"A\")\n",
    "elif s>=75:\n",
    "    print(\"B\")\n",
    "elif s>=50:\n",
    "    print(\"C\")\n",
    "elif s<50:\n",
    "    print(\"Fail\")\n",
    "\n"
   ]
  },
  {
   "cell_type": "code",
   "execution_count": 11,
   "id": "cfb55574",
   "metadata": {},
   "outputs": [
    {
     "name": "stdout",
     "output_type": "stream",
     "text": [
      "50\n"
     ]
    }
   ],
   "source": [
    "# 5. Second Largest Number\n",
    "n = [int(input(\"Enter number: \")) for i in range(4)]\n",
    "m1, m2 = n[0], n[1]\n",
    "if m2 > m1:\n",
    "    m1, m2 = m2, m1\n",
    "for i in range(2, len(n)):\n",
    "    if n[i] > m1:\n",
    "        m2 = m1\n",
    "        m1 = n[i]\n",
    "    elif n[i] > m2 and n[i] != m1:\n",
    "        m2 = n[i]\n",
    "print(m2)"
   ]
  }
 ],
 "metadata": {
  "kernelspec": {
   "display_name": "Python 3",
   "language": "python",
   "name": "python3"
  },
  "language_info": {
   "codemirror_mode": {
    "name": "ipython",
    "version": 3
   },
   "file_extension": ".py",
   "mimetype": "text/x-python",
   "name": "python",
   "nbconvert_exporter": "python",
   "pygments_lexer": "ipython3",
   "version": "3.11.0"
  }
 },
 "nbformat": 4,
 "nbformat_minor": 5
}
