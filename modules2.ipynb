{
 "cells": [
  {
   "cell_type": "code",
   "execution_count": 5,
   "id": "9af93ddb",
   "metadata": {},
   "outputs": [
    {
     "name": "stdout",
     "output_type": "stream",
     "text": [
      "Text files: 1\n",
      "Python files: 1\n"
     ]
    }
   ],
   "source": [
    "#1. `os` → Count Files by Extension\n",
    "import os\n",
    "files = os.listdir(\"../..\")\n",
    "txt = 0\n",
    "py = 0\n",
    "for f in files:\n",
    "    if f.endswith(\".txt\"):\n",
    "        txt += 1\n",
    "    elif f.endswith(\".py\"):\n",
    "        py += 1\n",
    "print(\"Text files:\", txt)\n",
    "print(\"Python files:\", py)\n"
   ]
  },
  {
   "cell_type": "code",
   "execution_count": 6,
   "id": "599e496a",
   "metadata": {},
   "outputs": [
    {
     "name": "stdout",
     "output_type": "stream",
     "text": [
      "Mean = 54.57\n",
      "Median = 56\n",
      "Variance = 1037.29\n"
     ]
    }
   ],
   "source": [
    "#2. `statistics` → Exam Score Analysis\n",
    "import statistics as st\n",
    "n = [int(input()) for i in range(7)]\n",
    "print(\"Mean =\", round(st.mean(n), 2))\n",
    "print(\"Median =\", st.median(n))\n",
    "print(\"Variance =\", round(st.variance(n), 2))\n"
   ]
  },
  {
   "cell_type": "code",
   "execution_count": 10,
   "id": "5a1d5e36",
   "metadata": {},
   "outputs": [
    {
     "name": "stdout",
     "output_type": "stream",
     "text": [
      "Imaginary roots\n"
     ]
    }
   ],
   "source": [
    "#3. `math` → Quadratic Equation Solver\n",
    "import math\n",
    "a, b, c = map(int, input().split())\n",
    "d = b**2 - 4*a*c \n",
    "if d >= 0:\n",
    "    r1 = (-b + math.sqrt(d)) / (2*a)\n",
    "    r2 = (-b - math.sqrt(d)) / (2*a)\n",
    "    print(\"Roots are:\", r1, \", \", r2)\n",
    "else:\n",
    "    print(\"Imaginary roots\")"
   ]
  },
  {
   "cell_type": "code",
   "execution_count": 13,
   "id": "ee5e7f5d",
   "metadata": {},
   "outputs": [
    {
     "name": "stdout",
     "output_type": "stream",
     "text": [
      "You chose Rock , Computer chose Scissors\n",
      "You Win!\n"
     ]
    }
   ],
   "source": [
    "#4. `random` → Rock Paper Scissors Game\n",
    "import random\n",
    "choices = [\"Rock\", \"Paper\", \"Scissors\"]\n",
    "user = input()\n",
    "comp = random.choice(choices)\n",
    "print(\"You chose\", user, \", Computer chose\", comp)\n",
    "if user == comp:\n",
    "    print(\"Draw!\")\n",
    "elif (user == \"Rock\" and comp == \"Scissors\") or (user == \"Paper\" and comp == \"Rock\") or (user == \"Scissors\" and comp == \"Paper\"):\n",
    "    print(\"You Win!\")\n",
    "else:\n",
    "    print(\"You Lose!\")"
   ]
  }
 ],
 "metadata": {
  "kernelspec": {
   "display_name": "Python 3",
   "language": "python",
   "name": "python3"
  },
  "language_info": {
   "codemirror_mode": {
    "name": "ipython",
    "version": 3
   },
   "file_extension": ".py",
   "mimetype": "text/x-python",
   "name": "python",
   "nbconvert_exporter": "python",
   "pygments_lexer": "ipython3",
   "version": "3.11.0"
  }
 },
 "nbformat": 4,
 "nbformat_minor": 5
}
