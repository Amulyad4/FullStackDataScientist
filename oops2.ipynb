{
 "cells": [
  {
   "cell_type": "code",
   "execution_count": 1,
   "id": "86bd5431",
   "metadata": {},
   "outputs": [
    {
     "name": "stdout",
     "output_type": "stream",
     "text": [
      "You borrowed Python 101\n",
      "You returned Python 101\n",
      "Available books: {'Python 101': 3, 'Data Science': 2}\n"
     ]
    }
   ],
   "source": [
    "# 1. Library System\n",
    "class Library:\n",
    "    def __init__(self, books):\n",
    "        self.books = books\n",
    "\n",
    "    def borrow(self, title):\n",
    "        if self.books.get(title, 0) > 0:\n",
    "            self.books[title] -= 1\n",
    "            return f\"You borrowed {title}\"\n",
    "        return f\"{title} not available\"\n",
    "\n",
    "    def return_book(self, title):\n",
    "        self.books[title] = self.books.get(title, 0) + 1\n",
    "        return f\"You returned {title}\"\n",
    "\n",
    "    def show_books(self):\n",
    "        print(\"Available books:\", self.books)\n",
    "lib = Library({\"Python 101\": 3, \"Data Science\": 2})\n",
    "print(lib.borrow(\"Python 101\"))      \n",
    "print(lib.return_book(\"Python 101\"))  \n",
    "lib.show_books()     "
   ]
  },
  {
   "cell_type": "code",
   "execution_count": 2,
   "id": "42623b80",
   "metadata": {},
   "outputs": [
    {
     "name": "stdout",
     "output_type": "stream",
     "text": [
      "Access Granted\n",
      "Deposited 200\n",
      "Withdrew 100\n",
      "Balance: 600\n"
     ]
    }
   ],
   "source": [
    "# 2. ATM Machine\n",
    "class ATM:\n",
    "    def __init__(self, pin, balance=0):\n",
    "        self.pin = pin\n",
    "        self.balance = balance\n",
    "        self.is_authenticated = False\n",
    "\n",
    "    def login(self, pin):\n",
    "        if pin == self.pin:\n",
    "            self.is_authenticated = True\n",
    "            return \"Access Granted\"\n",
    "        return \"Wrong PIN\"\n",
    "\n",
    "    def check_balance(self):\n",
    "        return f\"Balance: {self.balance}\"\n",
    "\n",
    "    def deposit(self, amount):\n",
    "        if self.is_authenticated:\n",
    "            self.balance += amount\n",
    "            return f\"Deposited {amount}\"\n",
    "\n",
    "    def withdraw(self, amount):\n",
    "        if self.is_authenticated:\n",
    "            if amount <= self.balance:\n",
    "                self.balance -= amount\n",
    "                return f\"Withdrew {amount}\"\n",
    "            return \"Insufficient balance\"\n",
    "atm = ATM(1234, 500)\n",
    "print(atm.login(1234))              \n",
    "print(atm.deposit(200))             \n",
    "print(atm.withdraw(100))           \n",
    "print(atm.check_balance()) "
   ]
  },
  {
   "cell_type": "code",
   "execution_count": 3,
   "id": "a711d65b",
   "metadata": {},
   "outputs": [
    {
     "name": "stdout",
     "output_type": "stream",
     "text": [
      "Dr. Smith is teaching Python\n",
      "Alice enrolled in Python\n",
      "Dr. Smith assigned: Project 1\n",
      "Alice submitted: Project 1\n"
     ]
    }
   ],
   "source": [
    "# 3. University System\n",
    "class Professor:\n",
    "    def __init__(self, name, subject):\n",
    "        self.name = name\n",
    "        self.subject = subject\n",
    "\n",
    "    def teach(self, course):\n",
    "        return f\"{self.name} is teaching {course}\"\n",
    "\n",
    "    def give_assignment(self, task):\n",
    "        return f\"{self.name} assigned: {task}\"\n",
    "\n",
    "\n",
    "class Student:\n",
    "    def __init__(self, name):\n",
    "        self.name = name\n",
    "        self.courses = []\n",
    "        self.assignments = []\n",
    "\n",
    "    def enroll(self, course):\n",
    "        self.courses.append(course)\n",
    "        return f\"{self.name} enrolled in {course}\"\n",
    "\n",
    "    def submit_assignment(self, task):\n",
    "        self.assignments.append(task)\n",
    "        return f\"{self.name} submitted: {task}\"\n",
    "prof = Professor(\"Dr. Smith\", \"CS\")\n",
    "stud = Student(\"Alice\")\n",
    "print(prof.teach(\"Python\"))      \n",
    "print(stud.enroll(\"Python\"))         \n",
    "print(prof.give_assignment(\"Project 1\"))  \n",
    "print(stud.submit_assignment(\"Project 1\"))"
   ]
  },
  {
   "cell_type": "code",
   "execution_count": 4,
   "id": "a1038e62",
   "metadata": {},
   "outputs": [
    {
     "name": "stdout",
     "output_type": "stream",
     "text": [
      "Booked 2 tickets for Avatar\n",
      "Cancelled 1 ticket for Avatar\n",
      "Movies: {'Avatar': 9, 'Batman': 5}\n"
     ]
    }
   ],
   "source": [
    "# 4. Movie Ticket Booking\n",
    "class Cinema:\n",
    "    def __init__(self, movies):\n",
    "        self.movies = movies\n",
    "\n",
    "    def book(self, movie, seats):\n",
    "        if self.movies.get(movie, 0) >= seats:\n",
    "            self.movies[movie] -= seats\n",
    "            return f\"Booked {seats} tickets for {movie}\"\n",
    "        return f\"Not enough seats for {movie}\"\n",
    "\n",
    "    def cancel(self, movie, seats):\n",
    "        self.movies[movie] = self.movies.get(movie, 0) + seats\n",
    "        return f\"Cancelled {seats} ticket for {movie}\"\n",
    "\n",
    "    def show_movies(self):\n",
    "        print(\"Movies:\", self.movies)\n",
    "cinema = Cinema({\"Avatar\": 10, \"Batman\": 5})\n",
    "print(cinema.book(\"Avatar\", 2))    \n",
    "print(cinema.cancel(\"Avatar\", 1))   \n",
    "cinema.show_movies()   "
   ]
  },
  {
   "cell_type": "code",
   "execution_count": 5,
   "id": "4844ae74",
   "metadata": {},
   "outputs": [
    {
     "name": "stdout",
     "output_type": "stream",
     "text": [
      "Burger added\n",
      "Pizza added\n",
      "Pizza price updated to 250\n",
      "Burger removed\n",
      "Menu: {'Pizza': 250}\n"
     ]
    }
   ],
   "source": [
    "# 5. Restaurant Menu\n",
    "class Menu:\n",
    "    def __init__(self):\n",
    "        self.items = {}\n",
    "\n",
    "    def add_item(self, name, price):\n",
    "        self.items[name] = price\n",
    "        return f\"{name} added\"\n",
    "\n",
    "    def remove_item(self, name):\n",
    "        self.items.pop(name, None)\n",
    "        return f\"{name} removed\"\n",
    "\n",
    "    def update_price(self, name, price):\n",
    "        if name in self.items:\n",
    "            self.items[name] = price\n",
    "            return f\"{name} price updated to {price}\"\n",
    "\n",
    "    def show_menu(self):\n",
    "        print(\"Menu:\", self.items)\n",
    "menu = Menu()\n",
    "print(menu.add_item(\"Burger\", 100))  \n",
    "print(menu.add_item(\"Pizza\", 200))  \n",
    "print(menu.update_price(\"Pizza\", 250)) \n",
    "print(menu.remove_item(\"Burger\"))    \n",
    "menu.show_menu()  "
   ]
  }
 ],
 "metadata": {
  "kernelspec": {
   "display_name": "Python 3",
   "language": "python",
   "name": "python3"
  },
  "language_info": {
   "codemirror_mode": {
    "name": "ipython",
    "version": 3
   },
   "file_extension": ".py",
   "mimetype": "text/x-python",
   "name": "python",
   "nbconvert_exporter": "python",
   "pygments_lexer": "ipython3",
   "version": "3.11.0"
  }
 },
 "nbformat": 4,
 "nbformat_minor": 5
}
