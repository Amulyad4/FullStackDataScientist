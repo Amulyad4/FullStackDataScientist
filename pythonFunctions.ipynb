{
 "cells": [
  {
   "cell_type": "code",
   "execution_count": 2,
   "id": "3dfbb351",
   "metadata": {},
   "outputs": [
    {
     "name": "stdout",
     "output_type": "stream",
     "text": [
      "[2, 3, 5, 7, 11, 13, 17, 19]\n"
     ]
    }
   ],
   "source": [
    "#1. Prime Number Finder\n",
    "def isprime(n):\n",
    "    if n<=1:\n",
    "        return False\n",
    "    for i in range(2,int(n**0.5)+1):\n",
    "        if n%i==0:\n",
    "            return False\n",
    "    return True\n",
    "n = int(input())\n",
    "m=[]\n",
    "for i in range(1,n):\n",
    "    if isprime(i):\n",
    "        m.append(i)\n",
    "print(m)"
   ]
  },
  {
   "cell_type": "code",
   "execution_count": 4,
   "id": "c47640e0",
   "metadata": {},
   "outputs": [
    {
     "name": "stdout",
     "output_type": "stream",
     "text": [
      "True\n"
     ]
    }
   ],
   "source": [
    "#2. Palindrome Checker\n",
    "def f(n):\n",
    "    n = n.replace(\" \", \"\").lower()\n",
    "    i=0\n",
    "    j=len(n)-1\n",
    "    while(i<j):\n",
    "        if n[i]!=n[j]:\n",
    "            break\n",
    "        i+=1\n",
    "        j-=1\n",
    "        return True\n",
    "    \n",
    "n = input()\n",
    "if(f(n)):\n",
    "    print(\"True\")\n",
    "else:\n",
    "    print(\"False\")"
   ]
  },
  {
   "cell_type": "code",
   "execution_count": 5,
   "id": "1e786291",
   "metadata": {},
   "outputs": [
    {
     "name": "stdout",
     "output_type": "stream",
     "text": [
      "True\n"
     ]
    }
   ],
   "source": [
    "#3. Anagram Checker\n",
    "def anagram(s1,s2):\n",
    "    for i in range(len(s1)):\n",
    "        p = True\n",
    "        if s1[i] not in s2:\n",
    "            p = False\n",
    "            break\n",
    "    return p\n",
    "\n",
    "n1 = input()\n",
    "n2 = input()\n",
    "if anagram(n1,n2):\n",
    "    print(\"True\")\n",
    "else:\n",
    "    print(\"False\")"
   ]
  },
  {
   "cell_type": "code",
   "execution_count": 6,
   "id": "d3aa8882",
   "metadata": {},
   "outputs": [
    {
     "name": "stdout",
     "output_type": "stream",
     "text": [
      "vowels :  2 \n",
      "consonants :  3\n"
     ]
    }
   ],
   "source": [
    "#4. Count Vowels & Consonants\n",
    "def count(n):\n",
    "    v = \"aeiouAEIOU\"\n",
    "    vc=0\n",
    "    for i in range(len(n)):\n",
    "        if n[i] in v:\n",
    "            vc+=1\n",
    "    return vc\n",
    "\n",
    "n = input()\n",
    "n1 = count(n)\n",
    "print(\"vowels : \",n1,\"\\nconsonants : \",len(n)-n1)"
   ]
  },
  {
   "cell_type": "code",
   "execution_count": 7,
   "id": "699f15fa",
   "metadata": {},
   "outputs": [
    {
     "name": "stdout",
     "output_type": "stream",
     "text": [
      "amazing\n"
     ]
    }
   ],
   "source": [
    "#5. Longest Word Finder\n",
    "def longest(s):\n",
    "    n = s.split(\" \")\n",
    "    l = \"\"\n",
    "    m = 0\n",
    "    for st in n:\n",
    "        if len(st)>m:\n",
    "            m = len(st)\n",
    "            l = st\n",
    "    return l\n",
    "n = input()\n",
    "res = longest(n)\n",
    "print(res)\n"
   ]
  }
 ],
 "metadata": {
  "kernelspec": {
   "display_name": "Python 3",
   "language": "python",
   "name": "python3"
  },
  "language_info": {
   "codemirror_mode": {
    "name": "ipython",
    "version": 3
   },
   "file_extension": ".py",
   "mimetype": "text/x-python",
   "name": "python",
   "nbconvert_exporter": "python",
   "pygments_lexer": "ipython3",
   "version": "3.11.0"
  }
 },
 "nbformat": 4,
 "nbformat_minor": 5
}
