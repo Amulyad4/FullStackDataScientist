{
 "cells": [
  {
   "cell_type": "code",
   "execution_count": 2,
   "id": "84726bee",
   "metadata": {},
   "outputs": [
    {
     "name": "stdout",
     "output_type": "stream",
     "text": [
      "uGpqZ[r7\n"
     ]
    }
   ],
   "source": [
    "#1. Random Password Generator (`random`, `string`)\n",
    "import random, string\n",
    "def gen(l):\n",
    "    c = string.ascii_letters + string.digits + string.punctuation\n",
    "    password = ''.join(random.choice(c) for _ in range(l))\n",
    "    return password\n",
    "n = int(input())\n",
    "print(gen(n))"
   ]
  },
  {
   "cell_type": "code",
   "execution_count": null,
   "id": "10134b49",
   "metadata": {},
   "outputs": [
    {
     "name": "stdout",
     "output_type": "stream",
     "text": [
      "Result: 0.5139784559875352\n"
     ]
    }
   ],
   "source": [
    "#2. Simple Calculator with `math`\n",
    "import math\n",
    "def calculator(expression):\n",
    "    if \"(\" in expression and expression.endswith(\")\"):\n",
    "        func, num = expression.split(\"(\")\n",
    "        num = float(num[:-1])\n",
    "        match func.lower():\n",
    "            case \"sqrt\":\n",
    "                return math.sqrt(num)\n",
    "            case \"factorial\":\n",
    "                return math.factorial(int(num))\n",
    "            case \"sin\":\n",
    "                return math.sin(num)\n",
    "            case \"cos\":\n",
    "                return math.cos(num)\n",
    "            case _:\n",
    "                return \"Invalid function\"\n",
    "    else:\n",
    "        return \"Invalid input format\"\n",
    "expr = input()\n",
    "print(\"Result:\", calculator(expr))\n"
   ]
  },
  {
   "cell_type": "code",
   "execution_count": 8,
   "id": "79681376",
   "metadata": {},
   "outputs": [
    {
     "name": "stdout",
     "output_type": "stream",
     "text": [
      "Counter({'cat': 2, 'dog': 1})\n"
     ]
    }
   ],
   "source": [
    "#3. Word Frequency Counter (`collections.Counter`)\n",
    "from collections import Counter\n",
    "n = input().split(\" \")\n",
    "count = Counter(n)\n",
    "print(count)"
   ]
  },
  {
   "cell_type": "code",
   "execution_count": 10,
   "id": "0f73690f",
   "metadata": {},
   "outputs": [
    {
     "name": "stdout",
     "output_type": "stream",
     "text": [
      "Weather: Rainy, Temp: 39°C\n"
     ]
    }
   ],
   "source": [
    "#4. Weather Simulator (`random`)\n",
    "import random\n",
    "def weather_simulator():\n",
    "    weather = random.choice([\"Sunny\", \"Rainy\", \"Cloudy\", \"Stormy\", \"Windy\", \"Snowy\"])\n",
    "    temp = random.randint(-20, 41)\n",
    "    return f\"Weather: {weather}, Temp: {temp}°C\"\n",
    "print(weather_simulator())\n"
   ]
  },
  {
   "cell_type": "code",
   "execution_count": 14,
   "id": "1a48ad26",
   "metadata": {},
   "outputs": [
    {
     "name": "stdout",
     "output_type": "stream",
     "text": [
      "7\n",
      "6\n",
      "5\n",
      "4\n",
      "3\n",
      "2\n",
      "1\n",
      "Time Up !!\n"
     ]
    }
   ],
   "source": [
    "#5. Timer Program (`time`)\n",
    "import time\n",
    "def countdown(n):\n",
    "    for i in range(n,0,-1):\n",
    "        print(i)\n",
    "        time.sleep(1)\n",
    "    print(\"Time Up !!\")\n",
    "n = int(input())\n",
    "countdown(n)"
   ]
  }
 ],
 "metadata": {
  "kernelspec": {
   "display_name": "Python 3",
   "language": "python",
   "name": "python3"
  },
  "language_info": {
   "codemirror_mode": {
    "name": "ipython",
    "version": 3
   },
   "file_extension": ".py",
   "mimetype": "text/x-python",
   "name": "python",
   "nbconvert_exporter": "python",
   "pygments_lexer": "ipython3",
   "version": "3.11.0"
  }
 },
 "nbformat": 4,
 "nbformat_minor": 5
}
