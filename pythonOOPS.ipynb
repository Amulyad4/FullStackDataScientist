{
 "cells": [
  {
   "cell_type": "code",
   "execution_count": 2,
   "id": "43f56112",
   "metadata": {},
   "outputs": [
    {
     "name": "stdout",
     "output_type": "stream",
     "text": [
      "Balance: 12000\n"
     ]
    }
   ],
   "source": [
    "#1. Bank Account Class\n",
    "class BankAccount:\n",
    "    def __init__(self, balance=0, owner=\"Unknown\"):\n",
    "        self.balance = balance\n",
    "        self.owner = owner\n",
    "\n",
    "    def deposit(self, amount):\n",
    "        self.balance += amount\n",
    "\n",
    "    def withdraw(self, amount):\n",
    "        if amount <= self.balance:\n",
    "            self.balance -= amount\n",
    "        else:\n",
    "            print(\"Insufficient funds!\")\n",
    "\n",
    "    def get_balance(self):\n",
    "        return f\"Balance: {self.balance}\"\n",
    "acc = BankAccount(10000, \"Ammu\")\n",
    "acc.deposit(5000)\n",
    "acc.withdraw(3000)\n",
    "print(acc.get_balance())"
   ]
  },
  {
   "cell_type": "code",
   "execution_count": 4,
   "id": "745a3646",
   "metadata": {},
   "outputs": [
    {
     "name": "stdout",
     "output_type": "stream",
     "text": [
      "95.0\n",
      "100\n",
      "89\n"
     ]
    }
   ],
   "source": [
    "#2. Student Class with Average\n",
    "class Student:\n",
    "    def __init__(self, name, marks=None):\n",
    "        self.name = name\n",
    "        self.marks = marks if marks else []\n",
    "    def get_average(self):\n",
    "        return sum(self.marks) / len(self.marks) if self.marks else 0\n",
    "    def add_mark(self, mark):\n",
    "        self.marks.append(mark)\n",
    "    def get_highest(self):\n",
    "        return max(self.marks) if self.marks else None\n",
    "    def get_lowest(self):\n",
    "        return min(self.marks) if self.marks else None\n",
    "s = Student(\"Ammu\", [99, 97, 89])\n",
    "print(s.get_average())\n",
    "s.add_mark(100)\n",
    "print(s.get_highest())\n",
    "print(s.get_lowest())\n"
   ]
  },
  {
   "cell_type": "code",
   "execution_count": 6,
   "id": "5ed7e8e0",
   "metadata": {},
   "outputs": [
    {
     "name": "stdout",
     "output_type": "stream",
     "text": [
      "100000.0\n"
     ]
    }
   ],
   "source": [
    "#3. Employee Bonus System\n",
    "class Employee:\n",
    "    def __init__(self, name, salary, role):\n",
    "        self.name = name\n",
    "        self.salary = salary\n",
    "        self.role = role\n",
    "\n",
    "    def bonus(self):\n",
    "        if self.role.lower() == \"manager\":\n",
    "            return self.salary * 0.20\n",
    "        elif self.role.lower() == \"developer\":\n",
    "            return self.salary * 0.10\n",
    "        elif self.role.lower() == \"intern\":\n",
    "            return self.salary * 0.05\n",
    "        else:\n",
    "            return 0\n",
    "n = Employee(\"Ammu\", 500000, \"Manager\")\n",
    "print(n.bonus())\n"
   ]
  },
  {
   "cell_type": "code",
   "execution_count": 7,
   "id": "bd69dcf5",
   "metadata": {},
   "outputs": [
    {
     "name": "stdout",
     "output_type": "stream",
     "text": [
      "153.94\n",
      "20\n"
     ]
    }
   ],
   "source": [
    "#4. Shape Area Calculator\n",
    "import math\n",
    "class Shape:\n",
    "    def __init__(self, name):\n",
    "        self.name = name\n",
    "    def area(self):\n",
    "        raise NotImplementedError(\"Subclasses must implement area()\")\n",
    "class Circle(Shape):\n",
    "    def __init__(self, radius):\n",
    "        super().__init__(\"Circle\")\n",
    "        self.radius = radius\n",
    "    def area(self):\n",
    "        return round(math.pi * self.radius ** 2, 2)\n",
    "class Rectangle(Shape):\n",
    "    def __init__(self, width, height):\n",
    "        super().__init__(\"Rectangle\")\n",
    "        self.width = width\n",
    "        self.height = height\n",
    "    def area(self):\n",
    "        return self.width * self.height\n",
    "c = Circle(7)\n",
    "print(c.area()) \n",
    "r = Rectangle(4, 5)\n",
    "print(r.area())\n"
   ]
  },
  {
   "cell_type": "code",
   "execution_count": 8,
   "id": "84002967",
   "metadata": {},
   "outputs": [
    {
     "name": "stdout",
     "output_type": "stream",
     "text": [
      "Total = 2000\n"
     ]
    }
   ],
   "source": [
    "#5. E-commerce Order Class\n",
    "class Order:\n",
    "    def __init__(self):\n",
    "        self.items = {}\n",
    "    def add(self, item, price):\n",
    "        self.items[item] = price\n",
    "    def remove(self, item):\n",
    "        if item in self.items:\n",
    "            del self.items[item]\n",
    "    def calculate_total(self):\n",
    "        return f\"Total = {sum(self.items.values())}\"\n",
    "    def show_items(self):\n",
    "        return self.items\n",
    "order = Order()\n",
    "order.add(\"Shirt\", 500)\n",
    "order.add(\"Shoes\", 1500)\n",
    "print(order.calculate_total())"
   ]
  }
 ],
 "metadata": {
  "kernelspec": {
   "display_name": "Python 3",
   "language": "python",
   "name": "python3"
  },
  "language_info": {
   "codemirror_mode": {
    "name": "ipython",
    "version": 3
   },
   "file_extension": ".py",
   "mimetype": "text/x-python",
   "name": "python",
   "nbconvert_exporter": "python",
   "pygments_lexer": "ipython3",
   "version": "3.11.0"
  }
 },
 "nbformat": 4,
 "nbformat_minor": 5
}
