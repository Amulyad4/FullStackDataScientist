{
 "cells": [
  {
   "cell_type": "code",
   "execution_count": null,
   "id": "73a37b3a",
   "metadata": {},
   "outputs": [
    {
     "name": "stdout",
     "output_type": "stream",
     "text": [
      "Total bill = ( 10 * 10 ) + ( 20 * 5 ) + ( 30 * 15 ) =  100 + 100 + 450  =  650\n"
     ]
    }
   ],
   "source": [
    "#1.grocery bill \n",
    "n1 = int(input(\"price of item 1 :\"))\n",
    "q1 = int(input(\"quantity of item 1 :\"))\n",
    "n2 = int(input(\"price of item 2 :\"))\n",
    "q2 = int(input(\"quantity of item 2 :\"))\n",
    "n3 = int(input(\"price of item 3 :\"))\n",
    "q3 = int(input(\"quantity of item 3 :\"))\n",
    "print(\"Total bill = (\",n1,\"*\",q1,\") + (\",n2,\"*\",q2,\") + (\",n3,\"*\",q3,\") = \",n1*q1,\"+\",n2*q2,\"+\",n3*q3,\" = \",(n1*q1)+(n2*q2)+(n3*q3))"
   ]
  },
  {
   "cell_type": "code",
   "execution_count": 3,
   "id": "066ac375",
   "metadata": {},
   "outputs": [
    {
     "name": "stdout",
     "output_type": "stream",
     "text": [
      "Addition =  63\n",
      "subtraction =  -27\n",
      "Multiplication =  810\n",
      "Division =  0.4\n",
      "Modulus =  18\n"
     ]
    }
   ],
   "source": [
    "#2.calc \n",
    "n1 = int(input(\"enter first number :\"))\n",
    "n2 = int(input(\"enter second number :\"))\n",
    "print(\"Addition = \",n1+n2)\n",
    "print(\"subtraction = \",n1-n2)\n",
    "print(\"Multiplication = \",n1*n2)\n",
    "print(\"Division = \",n1/n2)\n",
    "print(\"Modulus = \",n1%n2)"
   ]
  },
  {
   "cell_type": "code",
   "execution_count": 5,
   "id": "ef71ee2d",
   "metadata": {},
   "outputs": [
    {
     "name": "stdout",
     "output_type": "stream",
     "text": [
      "Grade:  C (Good)\n"
     ]
    }
   ],
   "source": [
    "#3.Grading system\n",
    "n = int(input(\"enter marks : \"))\n",
    "if n>=90:\n",
    "    Grade = 'A+ (Outstanding)'\n",
    "elif n>=80 and n<=89:\n",
    "    Grade = 'A (Excellent)'\n",
    "elif n>=70 and n<=79:\n",
    "    Grade = 'B (Very good)'\n",
    "elif n>=60 and n<=69:\n",
    "    Grade = 'C (Good)'\n",
    "elif n<60:\n",
    "    Grade = 'Fail'\n",
    "print(\"Grade: \",Grade)"
   ]
  },
  {
   "cell_type": "code",
   "execution_count": null,
   "id": "71709043",
   "metadata": {},
   "outputs": [
    {
     "name": "stdout",
     "output_type": "stream",
     "text": [
      "Highest Marks =  56\n",
      "Lowest Marks =  12\n",
      "Average Marks =  34.0\n"
     ]
    }
   ],
   "source": [
    "#4.mark list\n",
    "l = [int(input()) for _ in range(5)]\n",
    "print(\"Highest Marks = \",max(l))\n",
    "print(\"Lowest Marks = \",min(l))\n",
    "x=len(l)\n",
    "print(\"Average Marks = \",sum(l)/x)"
   ]
  },
  {
   "cell_type": "code",
   "execution_count": null,
   "id": "5ae6c50a",
   "metadata": {},
   "outputs": [
    {
     "name": "stdout",
     "output_type": "stream",
     "text": [
      "Phone Number of  ammu : 48392654756\n"
     ]
    }
   ],
   "source": [
    "#5.dictionary\n",
    "phonebook = {}\n",
    "n = int(input(\"How many contacts do you want to add? \"))\n",
    "for i in range(n):\n",
    "    name1 = input(\"Enter name: \")\n",
    "    number = int(input(\"Enter phone number: \"))\n",
    "    phonebook[name1] = number\n",
    "name = input(\"Enter name to search: \")\n",
    "if name in phonebook:\n",
    "    print(\"Phone Number of \",name,\":\", phonebook[name])\n",
    "else:\n",
    "    print(name,\" not found in phonebook\")\n"
   ]
  },
  {
   "cell_type": "code",
   "execution_count": 25,
   "id": "1a9e8532",
   "metadata": {},
   "outputs": [
    {
     "name": "stdout",
     "output_type": "stream",
     "text": [
      "Total Words = 3\n",
      "Total Characters = 16\n",
      "Total Vowels = 7\n"
     ]
    }
   ],
   "source": [
    "#6.count words,characters and vowels\n",
    "sentence = input(\"Enter sentence: \")\n",
    "words = sentence.split()\n",
    "word_count = len(words)\n",
    "char_count = len(sentence)\n",
    "vowels = \"aeiouAEIOU\"\n",
    "vowel_count = 0\n",
    "for ch in sentence:\n",
    "    if ch in vowels:\n",
    "        vowel_count+=1\n",
    "print(\"Total Words =\", word_count)\n",
    "print(\"Total Characters =\", char_count)\n",
    "print(\"Total Vowels =\", vowel_count)"
   ]
  },
  {
   "cell_type": "code",
   "execution_count": 26,
   "id": "cb81939d",
   "metadata": {},
   "outputs": [
    {
     "name": "stdout",
     "output_type": "stream",
     "text": [
      "Simple Interest = 7500.0\n",
      "Total Amount = 32500.0\n"
     ]
    }
   ],
   "source": [
    "#7.simple and compound intrest\n",
    "principal = float(input(\"Enter Principal: \"))\n",
    "rate = float(input(\"Enter Rate of Interest: \"))\n",
    "time = float(input(\"Enter Time (years): \"))\n",
    "interest_type = input(\"Enter Interest Type (Simple/Compound): \").strip().lower()\n",
    "if interest_type == \"simple\":\n",
    "    si = (principal * rate * time) / 100\n",
    "    print(\"Simple Interest =\", si)\n",
    "    print(\"Total Amount =\", principal + si)\n",
    "elif interest_type == \"compound\":\n",
    "    ci = principal * ((1 + rate/100) ** time - 1)\n",
    "    print(\"Compound Interest =\", round(ci, 2))\n",
    "    print(\"Total Amount =\", round(principal + ci, 2))\n",
    "else:\n",
    "    print(\"Invalid Interest Type!\")"
   ]
  },
  {
   "cell_type": "code",
   "execution_count": null,
   "id": "8bedefa7",
   "metadata": {},
   "outputs": [
    {
     "name": "stdout",
     "output_type": "stream",
     "text": [
      "Encrypted Message: OLSSV98OP\n"
     ]
    }
   ],
   "source": [
    "#8.encryption\n",
    "s = input(\"Enter Message: \").upper()\n",
    "shift = int(input(\"Enter Shift: \"))\n",
    "encrypted = \"\"\n",
    "for ch in s:\n",
    "    if ch.isalpha():\n",
    "        encrypted += chr((ord(ch) - 65 + shift) % 26 + 65)\n",
    "    else:\n",
    "        encrypted += ch\n",
    "print(\"Encrypted Message:\", encrypted)"
   ]
  },
  {
   "cell_type": "code",
   "execution_count": 28,
   "id": "e5dd439c",
   "metadata": {},
   "outputs": [
    {
     "name": "stdout",
     "output_type": "stream",
     "text": [
      "PIN Verified.\n",
      "Withdrawal Successful. Remaining Balance = 10000.0\n"
     ]
    }
   ],
   "source": [
    "#9.atm pin verfication\n",
    "correct_pin = \"9876\"\n",
    "balance = 50000\n",
    "pin = input(\"Enter PIN: \")\n",
    "if pin == correct_pin:\n",
    "    print(\"PIN Verified.\")\n",
    "    withdraw = float(input(\"Enter amount to withdraw: \"))\n",
    "    if withdraw <= balance:\n",
    "        balance -= withdraw\n",
    "        print(\"Withdrawal Successful. Remaining Balance =\", balance)\n",
    "    else:\n",
    "        print(\"Insufficient Balance.\")\n",
    "else:\n",
    "    print(\"Invalid PIN.\")"
   ]
  },
  {
   "cell_type": "code",
   "execution_count": 29,
   "id": "12af6258",
   "metadata": {},
   "outputs": [
    {
     "name": "stdout",
     "output_type": "stream",
     "text": [
      "Current Books: ['ML', 'IP', 'WT', 'CN']\n",
      "Current Books: ['ML', 'WT', 'CN', 'ACD']\n",
      "Total Books: 4\n"
     ]
    }
   ],
   "source": [
    "#10.library management (add,remove,display)\n",
    "books = [\"ML\", \"IP\", \"WT\", \"CN\"]\n",
    "print(\"Current Books:\", books)\n",
    "add_book = input(\"Enter book to add: \")\n",
    "books.append(add_book)\n",
    "remove_book = input(\"Enter book to remove: \")\n",
    "if remove_book in books:\n",
    "    books.remove(remove_book)\n",
    "else:\n",
    "    print(remove_book, \"not found in library.\")\n",
    "print(\"Current Books:\", books)\n",
    "print(\"Total Books:\", len(books))"
   ]
  }
 ],
 "metadata": {
  "kernelspec": {
   "display_name": "Python 3",
   "language": "python",
   "name": "python3"
  },
  "language_info": {
   "codemirror_mode": {
    "name": "ipython",
    "version": 3
   },
   "file_extension": ".py",
   "mimetype": "text/x-python",
   "name": "python",
   "nbconvert_exporter": "python",
   "pygments_lexer": "ipython3",
   "version": "3.11.0"
  }
 },
 "nbformat": 4,
 "nbformat_minor": 5
}
