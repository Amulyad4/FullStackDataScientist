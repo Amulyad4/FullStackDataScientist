{
 "cells": [
  {
   "cell_type": "code",
   "execution_count": 2,
   "id": "0edea16f",
   "metadata": {},
   "outputs": [
    {
     "name": "stdout",
     "output_type": "stream",
     "text": [
      "Number of words: 286\n"
     ]
    }
   ],
   "source": [
    "#1.Given a text file, count the total number of words.\n",
    "def c(n):\n",
    "    count = 0\n",
    "    in_word = False\n",
    "    for ch in n:\n",
    "        if ch.isspace():\n",
    "            in_word = False\n",
    "        else:\n",
    "            if not in_word: \n",
    "                count += 1\n",
    "                in_word = True\n",
    "    return count\n",
    "fd = open(\"questions.txt\",\"r\")\n",
    "n = fd.read()\n",
    "print(\"Number of words:\", c(n))"
   ]
  },
  {
   "cell_type": "code",
   "execution_count": 6,
   "id": "56816810",
   "metadata": {},
   "outputs": [
    {
     "name": "stdout",
     "output_type": "stream",
     "text": [
      "strong password\n"
     ]
    }
   ],
   "source": [
    "#2. Write a program to check if a password is strong (at least 8 characters, contains uppercase, lowercase, digit, and special char).\n",
    "import re\n",
    "n = input()\n",
    "if (len(n)>=8 and re.search(r\"[a-z]\",n) and re.search(r\"[A-Z]\",n) and re.search(r\"[0-9]\",n) and re.search(r\"[*&^%$#@!]\",n)):\n",
    "    print(\"strong password\")\n",
    "else:\n",
    "    print(\"Not a strong password\")"
   ]
  },
  {
   "cell_type": "code",
   "execution_count": 10,
   "id": "6edc39a5",
   "metadata": {},
   "outputs": [
    {
     "name": "stdout",
     "output_type": "stream",
     "text": [
      "3060\n"
     ]
    }
   ],
   "source": [
    "#3.Implement a calculator with +, -, *, / operations\n",
    "n1 = int(input())\n",
    "n2 = int(input())\n",
    "op = input()\n",
    "match op:\n",
    "    case '+':\n",
    "        print(n1+n2)\n",
    "    case '-':\n",
    "        print(n1-n2)\n",
    "    case '*':\n",
    "        print(n1*n2)\n",
    "    case '/':\n",
    "        print(n1/n2)\n",
    "    case _:\n",
    "        print(\"Invalid option\")"
   ]
  },
  {
   "cell_type": "code",
   "execution_count": 14,
   "id": "3906c31f",
   "metadata": {},
   "outputs": [
    {
     "name": "stdout",
     "output_type": "stream",
     "text": [
      "Duplicates: ['apple']\n"
     ]
    }
   ],
   "source": [
    "#4.Given a list of student names, find duplicates.\n",
    "l = input().split()\n",
    "f = {}\n",
    "for n in l:\n",
    "    if n in f:\n",
    "        f[n]+=1\n",
    "    else:\n",
    "        f[n]=1\n",
    "duplicates = [name for name, c in f.items() if c > 1]\n",
    "print(\"Duplicates:\", duplicates if duplicates else \"No duplicates\")"
   ]
  },
  {
   "cell_type": "code",
   "execution_count": 15,
   "id": "39097ab1",
   "metadata": {},
   "outputs": [
    {
     "name": "stdout",
     "output_type": "stream",
     "text": [
      "In Fahrenheit: 93.2\n",
      "In Celsius: 36.605555555555554\n"
     ]
    }
   ],
   "source": [
    "#5.Convert between Celsius and Fahrenheit.\n",
    "c = float(input(\"Enter Celsius:\"))\n",
    "f = (c * 9/5) + 32\n",
    "print(\"In Fahrenheit:\", f)\n",
    "\n",
    "f = float(input(\"Enter Fahrenheit: \"))\n",
    "c = (f - 32) * 5/9\n",
    "print(\"In Celsius:\", c)"
   ]
  },
  {
   "cell_type": "code",
   "execution_count": 18,
   "id": "1a2a244d",
   "metadata": {},
   "outputs": [
    {
     "name": "stdout",
     "output_type": "stream",
     "text": [
      "78\n"
     ]
    }
   ],
   "source": [
    "#6.Find the largest number from a list of integers.\n",
    "l = map(int,input().split())\n",
    "print(max(l))"
   ]
  },
  {
   "cell_type": "code",
   "execution_count": 19,
   "id": "e1222d53",
   "metadata": {},
   "outputs": [
    {
     "name": "stdout",
     "output_type": "stream",
     "text": [
      "Simple Interest: 7200.0\n"
     ]
    }
   ],
   "source": [
    "#7.Calculate Simple Interest.\n",
    "p = float(input(\"Principal: \"))\n",
    "r = float(input(\"Rate: \"))\n",
    "t = float(input(\"Time: \"))\n",
    "si = (p * r * t) / 100\n",
    "print(\"Simple Interest:\", si)"
   ]
  },
  {
   "cell_type": "code",
   "execution_count": 21,
   "id": "2ac37bf5",
   "metadata": {},
   "outputs": [
    {
     "name": "stdout",
     "output_type": "stream",
     "text": [
      "Defaulters: ['akki']\n"
     ]
    }
   ],
   "source": [
    "#8.Given a dictionary of student names and attendance %, find defaulters (<75%).\n",
    "n = int(input())\n",
    "f = {}\n",
    "for _ in range(n):\n",
    "    name = input()\n",
    "    att = int(input())\n",
    "    f[name]=att\n",
    "defaulters = [name for name, att in f.items() if att < 75]\n",
    "print(\"Defaulters:\", defaulters)"
   ]
  },
  {
   "cell_type": "code",
   "execution_count": 22,
   "id": "6bbd0e55",
   "metadata": {},
   "outputs": [
    {
     "name": "stdout",
     "output_type": "stream",
     "text": [
      "Sum of digits: 24\n"
     ]
    }
   ],
   "source": [
    "#9.Input: 1234 → Output: 10\n",
    "n = input()\n",
    "print(\"Sum of digits:\", sum(int(d) for d in str(n)))"
   ]
  },
  {
   "cell_type": "code",
   "execution_count": 23,
   "id": "9ff562cc",
   "metadata": {},
   "outputs": [
    {
     "name": "stdout",
     "output_type": "stream",
     "text": [
      "prime\n"
     ]
    }
   ],
   "source": [
    "#10. Write a function to check if a number is prime.\n",
    "def isprime(n):\n",
    "    if n<=1:\n",
    "        isprime = False\n",
    "    else:\n",
    "        isprime = True\n",
    "        for i in range(2,int(n**0.5)-1):\n",
    "            if n%i==0:\n",
    "                isprime=False\n",
    "                break\n",
    "    return isprime\n",
    "n = int(input())\n",
    "if (isprime(n)):\n",
    "    print(\"prime\")\n",
    "else:\n",
    "    print(\"Not prime\")"
   ]
  },
  {
   "cell_type": "code",
   "execution_count": null,
   "id": "f98ae5da",
   "metadata": {},
   "outputs": [
    {
     "name": "stdout",
     "output_type": "stream",
     "text": [
      "<class 'list'>\n",
      "Smallest: 12 Largest: 23\n"
     ]
    }
   ],
   "source": [
    "#11.Find smallest and largest numbers from a list.\n",
    "l = list(map(int, input(\"Enter numbers: \").split()))\n",
    "print(\"Smallest:\", min(l), \"Largest:\", max(l))"
   ]
  },
  {
   "cell_type": "code",
   "execution_count": 26,
   "id": "674b6dca",
   "metadata": {},
   "outputs": [
    {
     "name": "stdout",
     "output_type": "stream",
     "text": [
      "124\n"
     ]
    }
   ],
   "source": [
    "#12.Given items with prices in a dictionary, calculate total bill.\n",
    "n = int(input())\n",
    "f = {}\n",
    "for _ in range(n):\n",
    "    name = input()\n",
    "    am = int(input())\n",
    "    f[name]=am\n",
    "print(sum(f.values()))"
   ]
  },
  {
   "cell_type": "code",
   "execution_count": 27,
   "id": "126f2390",
   "metadata": {},
   "outputs": [
    {
     "name": "stdout",
     "output_type": "stream",
     "text": [
      "Largest: 45\n"
     ]
    }
   ],
   "source": [
    "#13.Input 3 numbers, print the largest.\n",
    "a, b, c = map(int, input(\"Enter 3 numbers: \").split())\n",
    "print(\"Largest:\", max(a, b, c))"
   ]
  },
  {
   "cell_type": "code",
   "execution_count": 29,
   "id": "3f91e0ae",
   "metadata": {},
   "outputs": [
    {
     "name": "stdout",
     "output_type": "stream",
     "text": [
      "Counter({'p': 2, 'a': 1, 'l': 1, 'e': 1})\n"
     ]
    }
   ],
   "source": [
    "#14.Count how many times each character appears in a string.\n",
    "from collections import Counter\n",
    "s = input()\n",
    "count = Counter(s)\n",
    "print(count)"
   ]
  },
  {
   "cell_type": "code",
   "execution_count": 32,
   "id": "168ee115",
   "metadata": {},
   "outputs": [
    {
     "name": "stdout",
     "output_type": "stream",
     "text": [
      "Bill: 1500\n"
     ]
    }
   ],
   "source": [
    "#15.Calculate electricity bill: First 100 units → ₹5/unit Next 100 units → ₹7/unit Above 200 units → ₹10/unit\n",
    "n = int(input())\n",
    "bill = 0\n",
    "if n <= 100:\n",
    "    bill = n * 5\n",
    "elif n <= 200:\n",
    "    bill = 100*5 + (n-100)*7\n",
    "else:\n",
    "    bill = 100*5 + 100*7 + (n-200)*10\n",
    "print(\"Bill:\", bill)"
   ]
  },
  {
   "cell_type": "code",
   "execution_count": 33,
   "id": "599d9693",
   "metadata": {},
   "outputs": [
    {
     "name": "stdout",
     "output_type": "stream",
     "text": [
      "['amu', 'bhav', 'keer', 'sant', 'sravz', 'yash']\n"
     ]
    }
   ],
   "source": [
    "#16.Sort a list of names in ascending order.\n",
    "l = input().split()\n",
    "print(sorted(l))"
   ]
  },
  {
   "cell_type": "code",
   "execution_count": 34,
   "id": "23c368c6",
   "metadata": {},
   "outputs": [
    {
     "name": "stdout",
     "output_type": "stream",
     "text": [
      "7598435674\n"
     ]
    }
   ],
   "source": [
    "#17. Input: 1234 → Output: 4321\n",
    "n = int(input())\n",
    "print(int(str(n)[::-1]))"
   ]
  },
  {
   "cell_type": "code",
   "execution_count": null,
   "id": "a76f2c89",
   "metadata": {},
   "outputs": [
    {
     "name": "stdout",
     "output_type": "stream",
     "text": [
      "positive : 2 , Negative : 3 , Zeros : 2\n"
     ]
    }
   ],
   "source": [
    "#18.Given a list, count positive, negative, and zero numbers.\n",
    "l = list(map(int, input(\"Enter numbers: \").split()))\n",
    "p=0\n",
    "n=0\n",
    "z=0\n",
    "for i in range(len(l)):\n",
    "    if l[i]>0:\n",
    "        p+=1\n",
    "    elif l[i]<0:\n",
    "        n+=1\n",
    "    else:\n",
    "        z+=1\n",
    "print(\"positive :\",p,\", Negative :\",n,\", Zeros :\",z)"
   ]
  },
  {
   "cell_type": "code",
   "execution_count": 37,
   "id": "46623959",
   "metadata": {},
   "outputs": [
    {
     "name": "stdout",
     "output_type": "stream",
     "text": [
      "Access Granted\n"
     ]
    }
   ],
   "source": [
    "#19. User has 3 attempts to enter correct PIN.\n",
    "p = \"9090\"\n",
    "for i in range(3):\n",
    "    n = input(\"Enter PIN: \")\n",
    "    if n == p:\n",
    "        print(\"Access Granted\")\n",
    "        break\n",
    "else:\n",
    "    print(\"Access Denied\")"
   ]
  },
  {
   "cell_type": "code",
   "execution_count": 38,
   "id": "1a30ead8",
   "metadata": {},
   "outputs": [
    {
     "name": "stdout",
     "output_type": "stream",
     "text": [
      "Error: Division by zero\n"
     ]
    }
   ],
   "source": [
    "#20.Write a program that asks for two numbers and divides them. Handle division by zero.\n",
    "a = int(input())\n",
    "b = int(input())\n",
    "try:\n",
    "    print(a/b)\n",
    "except ZeroDivisionError:\n",
    "    print(\"Error: Division by zero\")"
   ]
  },
  {
   "cell_type": "code",
   "execution_count": 39,
   "id": "20fb341f",
   "metadata": {},
   "outputs": [
    {
     "name": "stdout",
     "output_type": "stream",
     "text": [
      "Invalid input\n"
     ]
    }
   ],
   "source": [
    "#21.Write a program that handles both ValueError (invalid input) and ZeroDivisionError.\n",
    "try:\n",
    "    a = int(input())\n",
    "    b = int(input())\n",
    "    print(a/b)\n",
    "except ValueError:\n",
    "    print(\"Invalid input\")\n",
    "except ZeroDivisionError:\n",
    "    print(\"Error: Division by zero\")"
   ]
  },
  {
   "cell_type": "code",
   "execution_count": null,
   "id": "ce9a80fb",
   "metadata": {},
   "outputs": [
    {
     "name": "stdout",
     "output_type": "stream",
     "text": [
      "Error: Insufficient balance\n"
     ]
    }
   ],
   "source": [
    "#22.If withdrawal amount is greater than balance, raise an exception.\n",
    "balance = 50000\n",
    "withdraw = int(input())\n",
    "try:\n",
    "    if withdraw > balance:\n",
    "        raise Exception(\"Insufficient balance\")\n",
    "    else:\n",
    "        balance -= withdraw\n",
    "        print(\"Remaining balance:\", balance)\n",
    "except Exception as e:\n",
    "    print(\"Error:\", e)"
   ]
  },
  {
   "cell_type": "code",
   "execution_count": 44,
   "id": "7db210d6",
   "metadata": {},
   "outputs": [
    {
     "name": "stdout",
     "output_type": "stream",
     "text": [
      "Invalid input! Please enter a number.\n",
      "Bill processing finished\n"
     ]
    }
   ],
   "source": [
    "#23.Calculate total price, handle invalid input, and always show \"Bill processing finished\".First 100 units → ₹5/unit\n",
    "#• Next 100 units → ₹7/unit •Above 200 units → ₹10/uni\n",
    "try:\n",
    "    units = int(input())\n",
    "    bill = 0\n",
    "    if units <= 100:\n",
    "        bill = units * 5\n",
    "    elif units <= 200:\n",
    "        bill = 100 * 5 + (units - 100) * 7\n",
    "    else:\n",
    "        bill = 100 * 5 + 100 * 7 + (units - 200) * 10\n",
    "    print(\"Total Bill = ₹\", bill)\n",
    "except ValueError:\n",
    "    print(\"Invalid input! Please enter a number.\")\n",
    "finally:\n",
    "    print(\"Bill processing finished\")"
   ]
  }
 ],
 "metadata": {
  "kernelspec": {
   "display_name": "Python 3",
   "language": "python",
   "name": "python3"
  },
  "language_info": {
   "codemirror_mode": {
    "name": "ipython",
    "version": 3
   },
   "file_extension": ".py",
   "mimetype": "text/x-python",
   "name": "python",
   "nbconvert_exporter": "python",
   "pygments_lexer": "ipython3",
   "version": "3.11.0"
  }
 },
 "nbformat": 4,
 "nbformat_minor": 5
}
